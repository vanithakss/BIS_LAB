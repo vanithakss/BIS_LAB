{
  "nbformat": 4,
  "nbformat_minor": 0,
  "metadata": {
    "colab": {
      "provenance": []
    },
    "kernelspec": {
      "name": "python3",
      "display_name": "Python 3"
    },
    "language_info": {
      "name": "python"
    }
  },
  "cells": [
    {
      "cell_type": "code",
      "execution_count": null,
      "metadata": {
        "colab": {
          "base_uri": "https://localhost:8080/"
        },
        "id": "YZziSBxuEzbR",
        "outputId": "a6a74050-915b-4dd5-a2ac-9f6ae468a650"
      },
      "outputs": [
        {
          "output_type": "stream",
          "name": "stdout",
          "text": [
            "Best gene subset: [0, 4, 5, 7, 9, 11, 12, 14, 15, 16, 18, 20, 21, 26, 27, 28, 30, 33, 34, 36, 37, 39, 40, 42, 43, 48, 49, 50, 53, 55, 56, 59, 61, 63, 64, 65, 70, 71, 72, 73, 79, 80, 81, 86, 88, 89, 92, 94, 98, 99]\n",
            "Best accuracy achieved: 0.92\n"
          ]
        }
      ],
      "source": [
        "import numpy as np\n",
        "import math  # Import the standard math library for required functions\n",
        "from sklearn.datasets import make_classification\n",
        "from sklearn.model_selection import train_test_split\n",
        "from sklearn.neighbors import KNeighborsClassifier\n",
        "from sklearn.metrics import accuracy_score\n",
        "\n",
        "# Mock dataset: create a synthetic genetic dataset with many features (genes)\n",
        "X, y = make_classification(n_samples=500, n_features=100, n_informative=10, n_redundant=20, random_state=42)\n",
        "X_train, X_test, y_train, y_test = train_test_split(X, y, test_size=0.3, random_state=42)\n",
        "\n",
        "# Define the objective function for gene subset evaluation\n",
        "def evaluate_gene_subset(gene_subset):\n",
        "    selected_features = [index for index, selected in enumerate(gene_subset) if selected == 1]\n",
        "    if len(selected_features) == 0:  # No genes selected\n",
        "        return 0\n",
        "\n",
        "    # Use k-NN as a simple classifier to evaluate performance\n",
        "    classifier = KNeighborsClassifier(n_neighbors=3)\n",
        "    classifier.fit(X_train[:, selected_features], y_train)\n",
        "    y_pred = classifier.predict(X_test[:, selected_features])\n",
        "    accuracy = accuracy_score(y_test, y_pred)\n",
        "    return accuracy\n",
        "\n",
        "# Define Lévy flight function with math module instead of np.math\n",
        "def levy_flight(Lambda):\n",
        "    sigma_u = (math.gamma(1 + Lambda) * math.sin(math.pi * Lambda / 2) /\n",
        "               (math.gamma((1 + Lambda) / 2) * Lambda * 2**((Lambda - 1) / 2)))**(1 / Lambda)\n",
        "    u = np.random.randn() * sigma_u\n",
        "    v = np.random.randn()\n",
        "    step = u / abs(v)**(1 / Lambda)\n",
        "    return step\n",
        "\n",
        "# Cuckoo Search for Gene Selection\n",
        "def cuckoo_search_gene_selection(n_nests=20, n_iterations=50, discovery_rate=0.25, gene_count=100):\n",
        "    nests = np.random.randint(2, size=(n_nests, gene_count))  # Initialize nests (binary vectors)\n",
        "    best_nest = nests[0, :]\n",
        "    best_fitness = evaluate_gene_subset(best_nest)\n",
        "\n",
        "    for iteration in range(n_iterations):\n",
        "        for i in range(n_nests):\n",
        "            new_nest = nests[i, :].copy()\n",
        "            # Lévy flight: flip bits based on Lévy steps\n",
        "            for j in range(gene_count):\n",
        "                if np.random.rand() < levy_flight(1.5):\n",
        "                    new_nest[j] = 1 - new_nest[j]  # Flip bit\n",
        "\n",
        "            new_fitness = evaluate_gene_subset(new_nest)\n",
        "\n",
        "            # Update nest if new solution is better\n",
        "            if new_fitness > evaluate_gene_subset(nests[i, :]):\n",
        "                nests[i, :] = new_nest\n",
        "\n",
        "            # Update best nest\n",
        "            if new_fitness > best_fitness:\n",
        "                best_nest = new_nest\n",
        "                best_fitness = new_fitness\n",
        "\n",
        "        # Abandon a fraction of worst nests\n",
        "        abandoned = np.random.choice(n_nests, int(discovery_rate * n_nests), replace=False)\n",
        "        nests[abandoned] = np.random.randint(2, size=(len(abandoned), gene_count))\n",
        "\n",
        "    # Output best gene subset and fitness\n",
        "    return best_nest, best_fitness\n",
        "\n",
        "# Run Cuckoo Search for Gene Selection\n",
        "best_genes, best_accuracy = cuckoo_search_gene_selection()\n",
        "selected_genes = [i for i, selected in enumerate(best_genes) if selected == 1]\n",
        "print(\"Best gene subset:\", selected_genes)\n",
        "print(\"Best accuracy achieved:\", best_accuracy)\n"
      ]
    }
  ]
}
