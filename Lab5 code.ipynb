{
  "nbformat": 4,
  "nbformat_minor": 0,
  "metadata": {
    "colab": {
      "provenance": []
    },
    "kernelspec": {
      "name": "python3",
      "display_name": "Python 3"
    },
    "language_info": {
      "name": "python"
    }
  },
  "cells": [
    {
      "cell_type": "code",
      "execution_count": 6,
      "metadata": {
        "colab": {
          "base_uri": "https://localhost:8080/"
        },
        "id": "qDgDi9qX_eNR",
        "outputId": "cfc9e786-96d5-44d8-895e-9927675eb393"
      },
      "outputs": [
        {
          "output_type": "stream",
          "name": "stdout",
          "text": [
            "Selected Features: [0]\n",
            "Best Score: 1.0\n"
          ]
        }
      ],
      "source": [
        "import numpy as np\n",
        "import sklearn.datasets as datasets\n",
        "from sklearn.model_selection import train_test_split\n",
        "from sklearn.neighbors import KNeighborsClassifier\n",
        "from sklearn.metrics import accuracy_score\n",
        "\n",
        "# Objective Function: Evaluate feature subsets\n",
        "def fitness_function(features, X_train, X_test, y_train, y_test):\n",
        "    selected_features = np.where(features > 0.5)[0]  # Threshold to select features\n",
        "    if len(selected_features) == 0:  # Avoid empty subsets\n",
        "        return 0\n",
        "    X_train_subset = X_train[:, selected_features]\n",
        "    X_test_subset = X_test[:, selected_features]\n",
        "    model = KNeighborsClassifier(n_neighbors=3)\n",
        "    model.fit(X_train_subset, y_train)\n",
        "    y_pred = model.predict(X_test_subset)\n",
        "    return accuracy_score(y_test, y_pred)\n",
        "\n",
        "# GWO Algorithm\n",
        "def grey_wolf_optimizer(fitness_func, X_train, X_test, y_train, y_test, n_wolves=5, n_iterations=20):\n",
        "    n_features = X_train.shape[1]\n",
        "    wolves = np.random.rand(n_wolves, n_features)  # Initialize random wolves\n",
        "    alpha, beta, delta = np.zeros(n_features), np.zeros(n_features), np.zeros(n_features)\n",
        "    alpha_score, beta_score, delta_score = -np.inf, -np.inf, -np.inf\n",
        "\n",
        "    for iter in range(n_iterations):\n",
        "        for i in range(n_wolves):\n",
        "            fitness = fitness_func(wolves[i], X_train, X_test, y_train, y_test)\n",
        "            if fitness > alpha_score:\n",
        "                alpha, beta, delta = wolves[i], alpha, beta\n",
        "                alpha_score, beta_score, delta_score = fitness, alpha_score, beta_score\n",
        "            elif fitness > beta_score:\n",
        "                beta, delta = wolves[i], beta\n",
        "                beta_score, delta_score = fitness, beta_score\n",
        "            elif fitness > delta_score:\n",
        "                delta = wolves[i]\n",
        "                delta_score = fitness\n",
        "\n",
        "        # Update positions\n",
        "        a = 2 - 2 * (iter / n_iterations)\n",
        "        for i in range(n_wolves):\n",
        "            for j in range(n_features):\n",
        "                r1, r2 = np.random.rand(), np.random.rand()\n",
        "                A1, C1 = 2 * a * r1 - a, 2 * r2\n",
        "                D_alpha = abs(C1 * alpha[j] - wolves[i, j])\n",
        "                X1 = alpha[j] - A1 * D_alpha\n",
        "\n",
        "                r1, r2 = np.random.rand(), np.random.rand()\n",
        "                A2, C2 = 2 * a * r1 - a, 2 * r2\n",
        "                D_beta = abs(C2 * beta[j] - wolves[i, j])\n",
        "                X2 = beta[j] - A2 * D_beta\n",
        "\n",
        "                r1, r2 = np.random.rand(), np.random.rand()\n",
        "                A3, C3 = 2 * a * r1 - a, 2 * r2\n",
        "                D_delta = abs(C3 * delta[j] - wolves[i, j])\n",
        "                X3 = delta[j] - A3 * D_delta\n",
        "\n",
        "                wolves[i, j] = (X1 + X2 + X3) / 3\n",
        "\n",
        "    return alpha, alpha_score\n",
        "\n",
        "# Load Dataset\n",
        "iris = datasets.load_iris()\n",
        "X = iris.data\n",
        "y = iris.target\n",
        "X_train, X_test, y_train, y_test = train_test_split(X, y, test_size=0.3, random_state=42)\n",
        "\n",
        "# Run GWO for Feature Selection\n",
        "best_features, best_score = grey_wolf_optimizer(fitness_function, X_train, X_test, y_train, y_test)\n",
        "selected_features = np.where(best_features > 0.5)[0]\n",
        "print(\"Selected Features:\", selected_features)\n",
        "print(\"Best Score:\", best_score)\n"
      ]
    }
  ]
}
