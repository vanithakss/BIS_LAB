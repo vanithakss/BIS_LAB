{
  "nbformat": 4,
  "nbformat_minor": 0,
  "metadata": {
    "colab": {
      "provenance": []
    },
    "kernelspec": {
      "name": "python3",
      "display_name": "Python 3"
    },
    "language_info": {
      "name": "python"
    }
  },
  "cells": [
    {
      "cell_type": "code",
      "execution_count": 2,
      "metadata": {
        "colab": {
          "base_uri": "https://localhost:8080/"
        },
        "id": "7g9nSt8GAHu7",
        "outputId": "b804c26f-351f-44da-dd18-e303fbb61997"
      },
      "outputs": [
        {
          "output_type": "stream",
          "name": "stdout",
          "text": [
            "Iteration 1: Best distance = 349.64001480888857\n",
            "Iteration 2: Best distance = 332.6241608853182\n",
            "Iteration 3: Best distance = 308.88677742588607\n",
            "Iteration 4: Best distance = 308.88677742588607\n",
            "Iteration 5: Best distance = 308.88677742588607\n",
            "Iteration 6: Best distance = 293.4444099164983\n",
            "Iteration 7: Best distance = 293.4444099164983\n",
            "Iteration 8: Best distance = 293.4444099164983\n",
            "Iteration 9: Best distance = 293.4444099164983\n",
            "Iteration 10: Best distance = 293.4444099164983\n",
            "\n",
            "Best tour found: [4, 1, 6, 8, 5, 3, 7, 0, 2, 9]\n",
            "Total distance of the best tour: 293.4444099164983\n"
          ]
        }
      ],
      "source": [
        "import numpy as np\n",
        "import random\n",
        "import math\n",
        "\n",
        "# Calculate the Euclidean distance between two cities\n",
        "def distance(city1, city2):\n",
        "    return math.sqrt((city1[0] - city2[0]) ** 2 + (city1[1] - city2[1]) ** 2)\n",
        "\n",
        "# Calculate the total distance of the tour\n",
        "def total_distance(tour, cities):\n",
        "    distance_sum = 0\n",
        "    for i in range(len(tour) - 1):\n",
        "        distance_sum += distance(cities[tour[i]], cities[tour[i + 1]])\n",
        "    distance_sum += distance(cities[tour[-1]], cities[tour[0]])  # Return to the origin\n",
        "    return distance_sum\n",
        "\n",
        "# Generate a random initial population of solutions (tours)\n",
        "def initialize_population(num_cells, num_cities):\n",
        "    population = []\n",
        "    for _ in range(num_cells):\n",
        "        population.append(random.sample(range(num_cities), num_cities))  # Random permutation\n",
        "    return population\n",
        "\n",
        "# Simulate the interaction between neighboring cells (using a simple mutation and swap)\n",
        "def update_state(cell, cities, population, neighbor_indices):\n",
        "    best_tour = cell\n",
        "    best_distance = total_distance(cell, cities)\n",
        "\n",
        "    # Compare with neighbors and try to improve the tour using a 2-opt swap (local search)\n",
        "    for neighbor_index in neighbor_indices:\n",
        "        neighbor_tour = population[neighbor_index]\n",
        "        new_tour = two_opt_swap(neighbor_tour, cities)\n",
        "        new_distance = total_distance(new_tour, cities)\n",
        "        if new_distance < best_distance:\n",
        "            best_tour = new_tour\n",
        "            best_distance = new_distance\n",
        "    return best_tour\n",
        "\n",
        "# Perform a 2-opt swap to improve the tour\n",
        "def two_opt_swap(tour, cities):\n",
        "    new_tour = tour[:]\n",
        "    i, j = random.sample(range(len(tour)), 2)\n",
        "    if i > j:\n",
        "        i, j = j, i\n",
        "    new_tour[i:j + 1] = reversed(new_tour[i:j + 1])\n",
        "    return new_tour\n",
        "\n",
        "# Main function to run the parallel cellular algorithm for TSP\n",
        "def parallel_cellular_algorithm(cities, num_cells=100, num_iterations=10):\n",
        "    num_cities = len(cities)\n",
        "    population = initialize_population(num_cells, num_cities)\n",
        "    best_tour = population[0]\n",
        "    best_distance = total_distance(best_tour, cities)\n",
        "\n",
        "    for iteration in range(num_iterations):\n",
        "        new_population = []\n",
        "        for i in range(num_cells):\n",
        "            # Define the neighborhood of each cell (randomly select neighbors)\n",
        "            neighbor_indices = random.sample(range(num_cells), 3)\n",
        "            new_cell = update_state(population[i], cities, population, neighbor_indices)\n",
        "            new_population.append(new_cell)\n",
        "\n",
        "        population = new_population\n",
        "\n",
        "        # Track the best solution found\n",
        "        for cell in population:\n",
        "            cell_distance = total_distance(cell, cities)\n",
        "            if cell_distance < best_distance:\n",
        "                best_tour = cell\n",
        "                best_distance = cell_distance\n",
        "\n",
        "        print(f\"Iteration {iteration+1}: Best distance = {best_distance}\")\n",
        "\n",
        "    return best_tour, best_distance\n",
        "\n",
        "# Example usage\n",
        "if __name__ == \"__main__\":\n",
        "    # Random cities: 10 cities with random coordinates\n",
        "    num_cities = 10\n",
        "    cities = np.random.rand(num_cities, 2) * 100  # Generate random cities in 2D space\n",
        "\n",
        "    # Solve the TSP using Parallel Cellular Algorithm\n",
        "    best_tour, best_distance = parallel_cellular_algorithm(cities)\n",
        "\n",
        "    print(\"\\nBest tour found:\", best_tour)\n",
        "    print(\"Total distance of the best tour:\", best_distance)\n"
      ]
    }
  ]
}